{
 "cells": [
  {
   "cell_type": "code",
   "execution_count": 14,
   "id": "42bcc9dd",
   "metadata": {},
   "outputs": [],
   "source": [
    "from numpy import loadtxt\n",
    "from sklearn.model_selection import train_test_split"
   ]
  },
  {
   "cell_type": "code",
   "execution_count": 55,
   "id": "fef926eb",
   "metadata": {},
   "outputs": [
    {
     "name": "stdout",
     "output_type": "stream",
     "text": [
      "[[  6.    148.     72.    ...   0.627  50.      1.   ]\n",
      " [  1.     85.     66.    ...   0.351  31.      0.   ]\n",
      " [  8.    183.     64.    ...   0.672  32.      1.   ]\n",
      " ...\n",
      " [  5.    121.     72.    ...   0.245  30.      0.   ]\n",
      " [  1.    126.     60.    ...   0.349  47.      1.   ]\n",
      " [  1.     93.     70.    ...   0.315  23.      0.   ]]\n"
     ]
    }
   ],
   "source": [
    "dataset=loadtxt('pima-indians-diabetes.data.csv',delimiter=',')\n",
    "print(dataset)"
   ]
  },
  {
   "cell_type": "code",
   "execution_count": 56,
   "id": "22b911a6",
   "metadata": {},
   "outputs": [],
   "source": [
    "X = dataset[:,0:8]\n",
    "Y = dataset[:,8]\n",
    "X_train_val , X_test , Y_train_val ,Y_test = train_test_split(X, Y, test_size=0.2)\n",
    "X_train, X_val , Y_train ,Y_val = train_test_split(X_train_val, Y_train_val, test_size=0.2)"
   ]
  },
  {
   "cell_type": "code",
   "execution_count": 57,
   "id": "7eb7b731",
   "metadata": {},
   "outputs": [],
   "source": [
    "from keras.models import Sequential\n",
    "from keras.layers import Dense"
   ]
  },
  {
   "cell_type": "code",
   "execution_count": 58,
   "id": "b848bdea",
   "metadata": {},
   "outputs": [],
   "source": [
    "model = Sequential()\n",
    "model.add(Dense(16, input_dim=8, activation='relu'))\n",
    "model.add(Dense(8, activation='relu'))\n",
    "model.add(Dense(1, activation='sigmoid'))"
   ]
  },
  {
   "cell_type": "code",
   "execution_count": 59,
   "id": "4beb40ac",
   "metadata": {},
   "outputs": [
    {
     "name": "stdout",
     "output_type": "stream",
     "text": [
      "Model: \"sequential_2\"\n",
      "_________________________________________________________________\n",
      " Layer (type)                Output Shape              Param #   \n",
      "=================================================================\n",
      " dense_6 (Dense)             (None, 16)                144       \n",
      "                                                                 \n",
      " dense_7 (Dense)             (None, 8)                 136       \n",
      "                                                                 \n",
      " dense_8 (Dense)             (None, 1)                 9         \n",
      "                                                                 \n",
      "=================================================================\n",
      "Total params: 289\n",
      "Trainable params: 289\n",
      "Non-trainable params: 0\n",
      "_________________________________________________________________\n"
     ]
    }
   ],
   "source": [
    "model.summary()"
   ]
  },
  {
   "cell_type": "code",
   "execution_count": 64,
   "id": "46b76251",
   "metadata": {},
   "outputs": [],
   "source": [
    "from keras.metrics import accuracy\n",
    "model.compile(loss='binary_crossentropy',optimizer='adam',metrics=['accuracy'])"
   ]
  },
  {
   "cell_type": "code",
   "execution_count": 65,
   "id": "a5a0ad89",
   "metadata": {},
   "outputs": [],
   "source": [
    "#Tham số loss chỉ định hàm mất mát được sử dụng để tối ưu hóa mô hình. Trong trường hợp này, 'binary_crossentropy'được sử dụng làm hàm mất mát, thường được sử dụng cho các bài toán phân loại nhị phân.\n",
    "\n",
    "#Tham optimizersố chỉ định thuật toán tối ưu hóa sẽ sử dụng. Ở đây, 'adam'được sử dụng, một trình tối ưu hóa phổ biến và hiệu quả.\n",
    "\n",
    "#Tham số metricschỉ định (các) chỉ số đánh giá sẽ sử dụng trong quá trình đào tạo và đánh giá. Trong trường hợp này, số liệu accuracyđược sử dụng để đo tỷ lệ phần trăm của các mẫu được phân loại chính xác."
   ]
  },
  {
   "cell_type": "code",
   "execution_count": 66,
   "id": "feb4c7e4",
   "metadata": {},
   "outputs": [
    {
     "name": "stdout",
     "output_type": "stream",
     "text": [
      "Epoch 1/100\n",
      "62/62 [==============================] - 1s 1ms/step - loss: 0.5166 - accuracy: 0.7658\n",
      "Epoch 2/100\n",
      "62/62 [==============================] - 0s 1ms/step - loss: 0.4882 - accuracy: 0.7678\n",
      "Epoch 3/100\n",
      "62/62 [==============================] - 0s 1ms/step - loss: 0.4789 - accuracy: 0.7780\n",
      "Epoch 4/100\n",
      "62/62 [==============================] - 0s 1ms/step - loss: 0.4928 - accuracy: 0.7862\n",
      "Epoch 5/100\n",
      "62/62 [==============================] - 0s 1ms/step - loss: 0.4707 - accuracy: 0.7780\n",
      "Epoch 6/100\n",
      "62/62 [==============================] - 0s 1ms/step - loss: 0.4769 - accuracy: 0.7699\n",
      "Epoch 7/100\n",
      "62/62 [==============================] - 0s 1ms/step - loss: 0.5046 - accuracy: 0.7475\n",
      "Epoch 8/100\n",
      "62/62 [==============================] - 0s 1ms/step - loss: 0.5000 - accuracy: 0.7515\n",
      "Epoch 9/100\n",
      "62/62 [==============================] - 0s 956us/step - loss: 0.4679 - accuracy: 0.7739\n",
      "Epoch 10/100\n",
      "62/62 [==============================] - 0s 1ms/step - loss: 0.4766 - accuracy: 0.7556\n",
      "Epoch 11/100\n",
      "62/62 [==============================] - 0s 1ms/step - loss: 0.4763 - accuracy: 0.7637\n",
      "Epoch 12/100\n",
      "62/62 [==============================] - 0s 1ms/step - loss: 0.4941 - accuracy: 0.7576\n",
      "Epoch 13/100\n",
      "62/62 [==============================] - 0s 1ms/step - loss: 0.5125 - accuracy: 0.7699\n",
      "Epoch 14/100\n",
      "62/62 [==============================] - 0s 1ms/step - loss: 0.4951 - accuracy: 0.7699\n",
      "Epoch 15/100\n",
      "62/62 [==============================] - 0s 1ms/step - loss: 0.5279 - accuracy: 0.7576\n",
      "Epoch 16/100\n",
      "62/62 [==============================] - 0s 1ms/step - loss: 0.4701 - accuracy: 0.7658\n",
      "Epoch 17/100\n",
      "62/62 [==============================] - 0s 1ms/step - loss: 0.4765 - accuracy: 0.7678\n",
      "Epoch 18/100\n",
      "62/62 [==============================] - 0s 1ms/step - loss: 0.4956 - accuracy: 0.7739\n",
      "Epoch 19/100\n",
      "62/62 [==============================] - 0s 1ms/step - loss: 0.4670 - accuracy: 0.7902\n",
      "Epoch 20/100\n",
      "62/62 [==============================] - 0s 1ms/step - loss: 0.4909 - accuracy: 0.7617\n",
      "Epoch 21/100\n",
      "62/62 [==============================] - 0s 1ms/step - loss: 0.4741 - accuracy: 0.7678\n",
      "Epoch 22/100\n",
      "62/62 [==============================] - 0s 1ms/step - loss: 0.4842 - accuracy: 0.7576\n",
      "Epoch 23/100\n",
      "62/62 [==============================] - 0s 1ms/step - loss: 0.4692 - accuracy: 0.7658\n",
      "Epoch 24/100\n",
      "62/62 [==============================] - 0s 1ms/step - loss: 0.4611 - accuracy: 0.7862\n",
      "Epoch 25/100\n",
      "62/62 [==============================] - 0s 1ms/step - loss: 0.4743 - accuracy: 0.7699\n",
      "Epoch 26/100\n",
      "62/62 [==============================] - 0s 1ms/step - loss: 0.4647 - accuracy: 0.7617\n",
      "Epoch 27/100\n",
      "62/62 [==============================] - 0s 1ms/step - loss: 0.4692 - accuracy: 0.7760\n",
      "Epoch 28/100\n",
      "62/62 [==============================] - 0s 1ms/step - loss: 0.4769 - accuracy: 0.7719\n",
      "Epoch 29/100\n",
      "62/62 [==============================] - 0s 1ms/step - loss: 0.4703 - accuracy: 0.7902\n",
      "Epoch 30/100\n",
      "62/62 [==============================] - 0s 964us/step - loss: 0.4625 - accuracy: 0.7780\n",
      "Epoch 31/100\n",
      "62/62 [==============================] - 0s 1ms/step - loss: 0.4748 - accuracy: 0.7699\n",
      "Epoch 32/100\n",
      "62/62 [==============================] - 0s 996us/step - loss: 0.4704 - accuracy: 0.7678\n",
      "Epoch 33/100\n",
      "62/62 [==============================] - 0s 1ms/step - loss: 0.5061 - accuracy: 0.7434\n",
      "Epoch 34/100\n",
      "62/62 [==============================] - 0s 1ms/step - loss: 0.4604 - accuracy: 0.7800\n",
      "Epoch 35/100\n",
      "62/62 [==============================] - 0s 1ms/step - loss: 0.4700 - accuracy: 0.7841\n",
      "Epoch 36/100\n",
      "62/62 [==============================] - 0s 1ms/step - loss: 0.4652 - accuracy: 0.7739\n",
      "Epoch 37/100\n",
      "62/62 [==============================] - 0s 1ms/step - loss: 0.4769 - accuracy: 0.7739\n",
      "Epoch 38/100\n",
      "62/62 [==============================] - 0s 1ms/step - loss: 0.5069 - accuracy: 0.7454\n",
      "Epoch 39/100\n",
      "62/62 [==============================] - 0s 1ms/step - loss: 0.4551 - accuracy: 0.7841\n",
      "Epoch 40/100\n",
      "62/62 [==============================] - 0s 1ms/step - loss: 0.4934 - accuracy: 0.7800\n",
      "Epoch 41/100\n",
      "62/62 [==============================] - 0s 1ms/step - loss: 0.4662 - accuracy: 0.7760\n",
      "Epoch 42/100\n",
      "62/62 [==============================] - 0s 1ms/step - loss: 0.4620 - accuracy: 0.7902\n",
      "Epoch 43/100\n",
      "62/62 [==============================] - 0s 1ms/step - loss: 0.4539 - accuracy: 0.7923\n",
      "Epoch 44/100\n",
      "62/62 [==============================] - 0s 1ms/step - loss: 0.4623 - accuracy: 0.8024\n",
      "Epoch 45/100\n",
      "62/62 [==============================] - 0s 1ms/step - loss: 0.4657 - accuracy: 0.7780\n",
      "Epoch 46/100\n",
      "62/62 [==============================] - 0s 1ms/step - loss: 0.4488 - accuracy: 0.8126\n",
      "Epoch 47/100\n",
      "62/62 [==============================] - 0s 1ms/step - loss: 0.4585 - accuracy: 0.7862\n",
      "Epoch 48/100\n",
      "62/62 [==============================] - 0s 1ms/step - loss: 0.4658 - accuracy: 0.7943\n",
      "Epoch 49/100\n",
      "62/62 [==============================] - 0s 1ms/step - loss: 0.5002 - accuracy: 0.7515\n",
      "Epoch 50/100\n",
      "62/62 [==============================] - 0s 1ms/step - loss: 0.4537 - accuracy: 0.7923\n",
      "Epoch 51/100\n",
      "62/62 [==============================] - 0s 1ms/step - loss: 0.4657 - accuracy: 0.7862\n",
      "Epoch 52/100\n",
      "62/62 [==============================] - 0s 1ms/step - loss: 0.4760 - accuracy: 0.7678\n",
      "Epoch 53/100\n",
      "62/62 [==============================] - 0s 1ms/step - loss: 0.4569 - accuracy: 0.7800\n",
      "Epoch 54/100\n",
      "62/62 [==============================] - 0s 1ms/step - loss: 0.4571 - accuracy: 0.7923\n",
      "Epoch 55/100\n",
      "62/62 [==============================] - 0s 1ms/step - loss: 0.4589 - accuracy: 0.7862\n",
      "Epoch 56/100\n",
      "62/62 [==============================] - 0s 1ms/step - loss: 0.4626 - accuracy: 0.7800\n",
      "Epoch 57/100\n",
      "62/62 [==============================] - 0s 1ms/step - loss: 0.4593 - accuracy: 0.7963\n",
      "Epoch 58/100\n",
      "62/62 [==============================] - 0s 1ms/step - loss: 0.4762 - accuracy: 0.7678\n",
      "Epoch 59/100\n",
      "62/62 [==============================] - 0s 1ms/step - loss: 0.4568 - accuracy: 0.7902\n",
      "Epoch 60/100\n",
      "62/62 [==============================] - 0s 1ms/step - loss: 0.4573 - accuracy: 0.7719\n",
      "Epoch 61/100\n",
      "62/62 [==============================] - 0s 1ms/step - loss: 0.4759 - accuracy: 0.7719\n",
      "Epoch 62/100\n",
      "62/62 [==============================] - 0s 1ms/step - loss: 0.4468 - accuracy: 0.8045\n",
      "Epoch 63/100\n",
      "62/62 [==============================] - 0s 1ms/step - loss: 0.4495 - accuracy: 0.7882\n",
      "Epoch 64/100\n",
      "62/62 [==============================] - 0s 1ms/step - loss: 0.4653 - accuracy: 0.7699\n",
      "Epoch 65/100\n",
      "62/62 [==============================] - 0s 1ms/step - loss: 0.4494 - accuracy: 0.7923\n",
      "Epoch 66/100\n",
      "62/62 [==============================] - 0s 1ms/step - loss: 0.4690 - accuracy: 0.7841\n",
      "Epoch 67/100\n",
      "62/62 [==============================] - 0s 1ms/step - loss: 0.4620 - accuracy: 0.7719\n",
      "Epoch 68/100\n",
      "62/62 [==============================] - 0s 1ms/step - loss: 0.4396 - accuracy: 0.7963\n",
      "Epoch 69/100\n",
      "62/62 [==============================] - 0s 2ms/step - loss: 0.4530 - accuracy: 0.7821\n",
      "Epoch 70/100\n",
      "62/62 [==============================] - 0s 2ms/step - loss: 0.4532 - accuracy: 0.7963\n",
      "Epoch 71/100\n",
      "62/62 [==============================] - 0s 1ms/step - loss: 0.4443 - accuracy: 0.7984\n",
      "Epoch 72/100\n",
      "62/62 [==============================] - 0s 1ms/step - loss: 0.4393 - accuracy: 0.8065\n",
      "Epoch 73/100\n",
      "62/62 [==============================] - 0s 1ms/step - loss: 0.4523 - accuracy: 0.7821\n",
      "Epoch 74/100\n",
      "62/62 [==============================] - 0s 1ms/step - loss: 0.4445 - accuracy: 0.7841\n",
      "Epoch 75/100\n",
      "62/62 [==============================] - 0s 948us/step - loss: 0.4514 - accuracy: 0.8024\n",
      "Epoch 76/100\n",
      "62/62 [==============================] - 0s 1ms/step - loss: 0.4711 - accuracy: 0.7923\n",
      "Epoch 77/100\n",
      "62/62 [==============================] - 0s 1ms/step - loss: 0.4570 - accuracy: 0.7963\n",
      "Epoch 78/100\n",
      "62/62 [==============================] - 0s 915us/step - loss: 0.4457 - accuracy: 0.7984\n",
      "Epoch 79/100\n",
      "62/62 [==============================] - 0s 1ms/step - loss: 0.4405 - accuracy: 0.7780\n",
      "Epoch 80/100\n",
      "62/62 [==============================] - 0s 946us/step - loss: 0.4363 - accuracy: 0.7943\n",
      "Epoch 81/100\n",
      "62/62 [==============================] - 0s 916us/step - loss: 0.4466 - accuracy: 0.7882\n",
      "Epoch 82/100\n"
     ]
    },
    {
     "name": "stdout",
     "output_type": "stream",
     "text": [
      "62/62 [==============================] - 0s 1ms/step - loss: 0.4565 - accuracy: 0.7800\n",
      "Epoch 83/100\n",
      "62/62 [==============================] - 0s 948us/step - loss: 0.4431 - accuracy: 0.7943\n",
      "Epoch 84/100\n",
      "62/62 [==============================] - 0s 974us/step - loss: 0.4654 - accuracy: 0.7984\n",
      "Epoch 85/100\n",
      "62/62 [==============================] - 0s 1ms/step - loss: 0.4588 - accuracy: 0.7841\n",
      "Epoch 86/100\n",
      "62/62 [==============================] - 0s 1ms/step - loss: 0.4494 - accuracy: 0.7923\n",
      "Epoch 87/100\n",
      "62/62 [==============================] - 0s 925us/step - loss: 0.4572 - accuracy: 0.7984\n",
      "Epoch 88/100\n",
      "62/62 [==============================] - 0s 1ms/step - loss: 0.4582 - accuracy: 0.7841\n",
      "Epoch 89/100\n",
      "62/62 [==============================] - 0s 925us/step - loss: 0.4528 - accuracy: 0.7882\n",
      "Epoch 90/100\n",
      "62/62 [==============================] - 0s 1ms/step - loss: 0.4484 - accuracy: 0.7882\n",
      "Epoch 91/100\n",
      "62/62 [==============================] - 0s 1ms/step - loss: 0.4583 - accuracy: 0.7821\n",
      "Epoch 92/100\n",
      "62/62 [==============================] - 0s 1ms/step - loss: 0.4514 - accuracy: 0.7760\n",
      "Epoch 93/100\n",
      "62/62 [==============================] - 0s 1ms/step - loss: 0.4657 - accuracy: 0.8065\n",
      "Epoch 94/100\n",
      "62/62 [==============================] - 0s 1ms/step - loss: 0.4393 - accuracy: 0.7923\n",
      "Epoch 95/100\n",
      "62/62 [==============================] - 0s 1ms/step - loss: 0.4847 - accuracy: 0.7678\n",
      "Epoch 96/100\n",
      "62/62 [==============================] - 0s 1ms/step - loss: 0.4361 - accuracy: 0.7943\n",
      "Epoch 97/100\n",
      "62/62 [==============================] - 0s 1ms/step - loss: 0.4516 - accuracy: 0.7882\n",
      "Epoch 98/100\n",
      "62/62 [==============================] - 0s 1ms/step - loss: 0.4459 - accuracy: 0.7902\n",
      "Epoch 99/100\n",
      "62/62 [==============================] - 0s 1ms/step - loss: 0.4358 - accuracy: 0.8106\n",
      "Epoch 100/100\n",
      "62/62 [==============================] - 0s 1ms/step - loss: 0.4293 - accuracy: 0.7984\n"
     ]
    },
    {
     "data": {
      "text/plain": [
       "<keras.callbacks.History at 0x187e33513f0>"
      ]
     },
     "execution_count": 66,
     "metadata": {},
     "output_type": "execute_result"
    }
   ],
   "source": [
    "model.fit(X_train,Y_train,epochs=100,batch_size=8,validation_batch_size=(X_val,Y_val))"
   ]
  },
  {
   "cell_type": "code",
   "execution_count": 67,
   "id": "61f47b35",
   "metadata": {},
   "outputs": [],
   "source": [
    "#X_train là dữ liệu đầu vào được sử dụng để huấn luyện mô hình.\n",
    "#Y_train là nhãn tương ứng với dữ liệu đầu vào trong X_train.\n",
    "#epochs=100 xác định số lần mà mô hình sẽ được huấn luyện trên toàn bộ tập dữ liệu.\n",
    "#batch_size=8 chỉ định số lượng mẫu dữ liệu sẽ được sử dụng trong mỗi lần cập nhật trọng số trong quá trình huấn luyện.\n",
    "#validation_data=(X_val, Y_val) được sử dụng để đánh giá mô hình trong quá trình huấn luyện. Các dữ liệu này sẽ được sử dụng để tính toán các độ đo và đánh giá mô hình sau mỗi epoch.\n",
    "#Tổng quan, lệnh model.fit() sẽ huấn luyện mô hình trên tập dữ liệu huấn luyện X_train và Y_train trong 100 epoch, sử dụng kỹ thuật tối ưu hóa adam, hàm mất mát binary_crossentropy và độ đo accuracy. Các đánh giá trung bình trên tập dữ liệu kiểm tra (X_val, Y_val) sẽ được tính toán và hiển thị sau mỗi epoch."
   ]
  },
  {
   "cell_type": "code",
   "execution_count": 68,
   "id": "4d97b72c",
   "metadata": {},
   "outputs": [],
   "source": [
    "model.save('mymodel.h5')"
   ]
  },
  {
   "cell_type": "code",
   "execution_count": 69,
   "id": "5f388165",
   "metadata": {},
   "outputs": [
    {
     "name": "stdout",
     "output_type": "stream",
     "text": [
      "5/5 [==============================] - 0s 2ms/step - loss: 0.5786 - accuracy: 0.7468\n",
      "loss= 0.5785559415817261\n",
      "acc= 0.7467532753944397\n"
     ]
    }
   ],
   "source": [
    "loss , acc =model.evaluate(X_test,Y_test)\n",
    "print(\"loss=\",loss)\n",
    "print(\"acc=\",acc)"
   ]
  },
  {
   "cell_type": "code",
   "execution_count": 70,
   "id": "a2cf81af",
   "metadata": {},
   "outputs": [
    {
     "name": "stdout",
     "output_type": "stream",
     "text": [
      "1/1 [==============================] - 0s 50ms/step\n",
      "[[0.36220562]]\n",
      "0.0\n"
     ]
    }
   ],
   "source": [
    "X_new=X_test[10]\n",
    "X_new = X_new.reshape(1, -1)\n",
    "\n",
    "Y_new=Y_val[10]\n",
    "y_predict=model.predict(X_new)\n",
    "print(y_predict)\n",
    "print(Y_new)"
   ]
  },
  {
   "cell_type": "code",
   "execution_count": null,
   "id": "b50ccbbb",
   "metadata": {},
   "outputs": [],
   "source": []
  }
 ],
 "metadata": {
  "kernelspec": {
   "display_name": "Python 3 (ipykernel)",
   "language": "python",
   "name": "python3"
  },
  "language_info": {
   "codemirror_mode": {
    "name": "ipython",
    "version": 3
   },
   "file_extension": ".py",
   "mimetype": "text/x-python",
   "name": "python",
   "nbconvert_exporter": "python",
   "pygments_lexer": "ipython3",
   "version": "3.10.9"
  }
 },
 "nbformat": 4,
 "nbformat_minor": 5
}
